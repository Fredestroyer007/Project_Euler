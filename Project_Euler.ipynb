{
  "nbformat": 4,
  "nbformat_minor": 0,
  "metadata": {
    "colab": {
      "name": "Project Euler.ipynb",
      "provenance": [],
      "authorship_tag": "ABX9TyOqnR1c+bMQObTdVAint/qW",
      "include_colab_link": true
    },
    "kernelspec": {
      "name": "python3",
      "display_name": "Python 3"
    },
    "language_info": {
      "name": "python"
    }
  },
  "cells": [
    {
      "cell_type": "markdown",
      "metadata": {
        "id": "view-in-github",
        "colab_type": "text"
      },
      "source": [
        "<a href=\"https://colab.research.google.com/github/Fredestroyer007/Project_Euler/blob/main/Project_Euler.ipynb\" target=\"_parent\"><img src=\"https://colab.research.google.com/assets/colab-badge.svg\" alt=\"Open In Colab\"/></a>"
      ]
    },
    {
      "cell_type": "markdown",
      "metadata": {
        "id": "tMHLhAOtUk0y"
      },
      "source": [
        "## #1 Multiples of 3 or 5"
      ]
    },
    {
      "cell_type": "code",
      "metadata": {
        "id": "CHjm5c2cS7yU"
      },
      "source": [
        "def sum_of_multiples(max): \n",
        "  sum = 0\n",
        "\n",
        "  for i in range(1,max):\n",
        "    if i % 3 == 0 or i % 5 == 0:\n",
        "      sum += i\n",
        "      \n",
        "  return sum"
      ],
      "execution_count": 15,
      "outputs": []
    },
    {
      "cell_type": "code",
      "metadata": {
        "colab": {
          "base_uri": "https://localhost:8080/"
        },
        "id": "_J_QDb4zTFmF",
        "outputId": "639b463b-95ef-4f1b-e6a3-e9684bd35298"
      },
      "source": [
        "print(\"The answers is \", sum_of_multiples(1000))"
      ],
      "execution_count": 18,
      "outputs": [
        {
          "output_type": "stream",
          "name": "stdout",
          "text": [
            "The answers is  233168\n"
          ]
        }
      ]
    },
    {
      "cell_type": "code",
      "metadata": {
        "id": "wwcQE1SMTtwh"
      },
      "source": [
        ""
      ],
      "execution_count": null,
      "outputs": []
    }
  ]
}