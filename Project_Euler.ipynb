{
  "nbformat": 4,
  "nbformat_minor": 0,
  "metadata": {
    "colab": {
      "name": "Project Euler.ipynb",
      "provenance": [],
      "authorship_tag": "ABX9TyNKxLvV2c6Oz0J0AOFE4+Ev",
      "include_colab_link": true
    },
    "kernelspec": {
      "name": "python3",
      "display_name": "Python 3"
    },
    "language_info": {
      "name": "python"
    }
  },
  "cells": [
    {
      "cell_type": "markdown",
      "metadata": {
        "id": "view-in-github",
        "colab_type": "text"
      },
      "source": [
        "<a href=\"https://colab.research.google.com/github/Fredestroyer007/Project_Euler/blob/main/Project_Euler.ipynb\" target=\"_parent\"><img src=\"https://colab.research.google.com/assets/colab-badge.svg\" alt=\"Open In Colab\"/></a>"
      ]
    },
    {
      "cell_type": "markdown",
      "metadata": {
        "id": "tMHLhAOtUk0y"
      },
      "source": [
        "## #1 Multiples of 3 or 5"
      ]
    },
    {
      "cell_type": "code",
      "metadata": {
        "id": "CHjm5c2cS7yU"
      },
      "source": [
        "def sum_of_multiples(max): \n",
        "  sum = 0\n",
        "\n",
        "  for i in range(1,max):\n",
        "    if i % 3 == 0 or i % 5 == 0:\n",
        "      sum += i\n",
        "      \n",
        "  return sum"
      ],
      "execution_count": 15,
      "outputs": []
    },
    {
      "cell_type": "code",
      "metadata": {
        "colab": {
          "base_uri": "https://localhost:8080/"
        },
        "id": "_J_QDb4zTFmF",
        "outputId": "639b463b-95ef-4f1b-e6a3-e9684bd35298"
      },
      "source": [
        "print(\"The answers is \", sum_of_multiples(1000))"
      ],
      "execution_count": 18,
      "outputs": [
        {
          "output_type": "stream",
          "name": "stdout",
          "text": [
            "The answers is  233168\n"
          ]
        }
      ]
    },
    {
      "cell_type": "markdown",
      "metadata": {
        "id": "XQ3konkyVjJw"
      },
      "source": [
        "## #2 Even Fibonacci numbers"
      ]
    },
    {
      "cell_type": "code",
      "metadata": {
        "id": "wwcQE1SMTtwh"
      },
      "source": [
        "def sum_even_fibonaci(max):\n",
        "  sum = 2\n",
        "  current = 0\n",
        "  first = 1\n",
        "  second = 2\n",
        "\n",
        "  while current < max:\n",
        "    current = first + second\n",
        "    if current % 2 == 0:\n",
        "      sum += current\n",
        "\n",
        "    first = second\n",
        "    second = current\n",
        "\n",
        "  return sum"
      ],
      "execution_count": 21,
      "outputs": []
    },
    {
      "cell_type": "code",
      "metadata": {
        "colab": {
          "base_uri": "https://localhost:8080/"
        },
        "id": "GH6oNj8kWqz0",
        "outputId": "7d6c2d42-01e0-4d45-ef63-cb5338d7932e"
      },
      "source": [
        "print(\"The answer is \", sum_even_fibonaci(4000000))"
      ],
      "execution_count": 24,
      "outputs": [
        {
          "output_type": "stream",
          "name": "stdout",
          "text": [
            "The answer is  4613732\n"
          ]
        }
      ]
    },
    {
      "cell_type": "markdown",
      "metadata": {
        "id": "e-EnPZ5AXeOk"
      },
      "source": [
        "## #3 Largest prime factor"
      ]
    },
    {
      "cell_type": "code",
      "metadata": {
        "id": "S-up0hZEYg1n"
      },
      "source": [
        "import random\n",
        "\n",
        "# Miller-Rabbin Primalty test\n",
        "def is_prime(n, k=128):\n",
        "    # test si le nombre est impair ou si = 2\n",
        "    if n == 2 or n == 3:\n",
        "        return True\n",
        "    if n <= 1 or n % 2 == 0:\n",
        "        return False\n",
        "    # trouve r et s\n",
        "    s = 0\n",
        "    r = n - 1\n",
        "    while r & 1 == 0:\n",
        "        s += 1\n",
        "        r //= 2\n",
        "    # fait k nombre de tests\n",
        "    for _ in range(k):\n",
        "        a = random.randrange(2, n - 1)\n",
        "        x = pow(a, r, n)\n",
        "        if x != 1 and x != n - 1:\n",
        "            j = 1\n",
        "            while j < s and x != n - 1:\n",
        "                x = pow(x, 2, n)\n",
        "                if x == 1:\n",
        "                    return False\n",
        "                j += 1\n",
        "            if x != n - 1:\n",
        "                return False\n",
        "    return True"
      ],
      "execution_count": 56,
      "outputs": []
    },
    {
      "cell_type": "code",
      "metadata": {
        "id": "feezcXWqWsxC"
      },
      "source": [
        "import math\n",
        "\n",
        "def largest_prime(num):\n",
        "  largest = 0\n",
        "  for i in range(1, int(math.sqrt(num))):\n",
        "    if num % i == 0:\n",
        "      if is_prime(i):\n",
        "        largest = i\n",
        "\n",
        "  return largest"
      ],
      "execution_count": 77,
      "outputs": []
    },
    {
      "cell_type": "code",
      "metadata": {
        "colab": {
          "base_uri": "https://localhost:8080/"
        },
        "id": "uBmChw_LcoWL",
        "outputId": "d2768d1c-6de1-404a-d57f-0394f5e39a28"
      },
      "source": [
        "print(\"The largest prime is\", largest_prime(600851475143))"
      ],
      "execution_count": 80,
      "outputs": [
        {
          "output_type": "stream",
          "name": "stdout",
          "text": [
            "The largest prime is 6857\n"
          ]
        }
      ]
    },
    {
      "cell_type": "markdown",
      "metadata": {
        "id": "Evit5DpHdtLT"
      },
      "source": [
        "## #4 Largest palindrome product"
      ]
    },
    {
      "cell_type": "code",
      "metadata": {
        "id": "X1yUulh7c6CV"
      },
      "source": [
        "def largest_palindrome_product():\n",
        "  first = 999\n",
        "  second = 999\n",
        "\n",
        "  while True:\n",
        "    temp = str(first * second)\n",
        "\n",
        "    if temp == temp[::-1]:\n",
        "      print(\"The largest palindrome is \", first*second)\n",
        "      break\n",
        "    else:\n",
        "      second -= 1\n",
        "    \n",
        "    if second == 990:\n",
        "      second = 999\n",
        "      first -= 1"
      ],
      "execution_count": 93,
      "outputs": []
    },
    {
      "cell_type": "code",
      "metadata": {
        "colab": {
          "base_uri": "https://localhost:8080/"
        },
        "id": "LmCAb-tgelkz",
        "outputId": "417f6211-b16b-47b4-f4b2-a04dd16e6134"
      },
      "source": [
        "largest_palindrome_product()"
      ],
      "execution_count": 94,
      "outputs": [
        {
          "output_type": "stream",
          "name": "stdout",
          "text": [
            "The largest palindrome is  906609\n"
          ]
        }
      ]
    },
    {
      "cell_type": "code",
      "metadata": {
        "id": "ZQtABAQdeuBD"
      },
      "source": [
        ""
      ],
      "execution_count": null,
      "outputs": []
    }
  ]
}