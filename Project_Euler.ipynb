{
  "nbformat": 4,
  "nbformat_minor": 0,
  "metadata": {
    "colab": {
      "name": "Project Euler.ipynb",
      "provenance": [],
      "collapsed_sections": [],
      "authorship_tag": "ABX9TyOa++h3xCbKFxGhB3jUwz6g",
      "include_colab_link": true
    },
    "kernelspec": {
      "name": "python3",
      "display_name": "Python 3"
    },
    "language_info": {
      "name": "python"
    }
  },
  "cells": [
    {
      "cell_type": "markdown",
      "metadata": {
        "id": "view-in-github",
        "colab_type": "text"
      },
      "source": [
        "<a href=\"https://colab.research.google.com/github/Fredestroyer007/Project_Euler/blob/main/Project_Euler.ipynb\" target=\"_parent\"><img src=\"https://colab.research.google.com/assets/colab-badge.svg\" alt=\"Open In Colab\"/></a>"
      ]
    },
    {
      "cell_type": "markdown",
      "metadata": {
        "id": "tMHLhAOtUk0y"
      },
      "source": [
        "## #1 Multiples of 3 or 5"
      ]
    },
    {
      "cell_type": "markdown",
      "metadata": {
        "id": "ih-PNrnLF1A4"
      },
      "source": [
        "<p>If we list all the natural numbers below 10 that are multiples of 3 or 5, we get 3, 5, 6 and 9. The sum of these multiples is 23.</p>\n",
        "<p>Find the sum of all the multiples of 3 or 5 below 1000.</p>"
      ]
    },
    {
      "cell_type": "code",
      "metadata": {
        "id": "CHjm5c2cS7yU"
      },
      "source": [
        "def sum_of_multiples_brute(max): \n",
        "  return sum(i for i in range(1, max) if (i % 3 == 0) or (i % 5 == 0))"
      ],
      "execution_count": 50,
      "outputs": []
    },
    {
      "cell_type": "code",
      "metadata": {
        "colab": {
          "base_uri": "https://localhost:8080/"
        },
        "id": "_J_QDb4zTFmF",
        "outputId": "f90f7874-b2c2-484d-f1ba-989279e5a3aa"
      },
      "source": [
        "%time print(\"The answers is \", sum_of_multiples_brute(1000))"
      ],
      "execution_count": 51,
      "outputs": [
        {
          "output_type": "stream",
          "name": "stdout",
          "text": [
            "The answers is  233168\n",
            "CPU times: user 2.7 ms, sys: 0 ns, total: 2.7 ms\n",
            "Wall time: 2.83 ms\n"
          ]
        }
      ]
    },
    {
      "cell_type": "markdown",
      "metadata": {
        "id": "UIGyux_PTPok"
      },
      "source": [
        "If we take all the numbers divisible by 3 and by 5, smaller than 1000, we get:\n",
        "\n",
        "\\begin{align}\n",
        "\\text 3 + 6 + 9 + ... + 999 = 3 \\times ( 1 + 2 + 3 + ... + 333)\n",
        "\\end{align}\n",
        "\\begin{align}\n",
        "\\text 5 + 10 + 15 + ... + 995 = 5 \\times (1 + 2 + 3 + ... + 199)\n",
        "\\end{align}\n",
        "\n",
        "Using the formula for the sum of the first n natural numbers:\n",
        "\n",
        "\\begin{align}\n",
        "\\mathbf \\sum \\frac {n(n+1)} {2}\n",
        "\\end{align}\n",
        "\n",
        "where:\n",
        "\n",
        "> $n$ is the maximum number.\n",
        "\n",
        "We use the fact that we can find the highest divider of a number using the integer division and finally we get:\n",
        "\n",
        "\\begin{align}\n",
        "\\text{Sum of multiples of 3 and 5 under 1000} = {3}\\sum \\frac {({1000} \\backslash {3}) (({1000} \\backslash {3}) + 1)} {2} + {5}\\sum \\frac {({1000} \\backslash {5}) (({1000} \\backslash {5}) + 1)} {2} - {(3 \\times 5)}\\sum \\frac {({1000} \\backslash {(3 \\times 5)}) (({1000} \\backslash {(3 \\times 5)}) + 1)} {2}\n",
        "\\end{align}\n",
        "\n",
        "where:\n",
        "\n",
        "\n",
        "> \\ is the sign for the integer divison\n",
        "\n"
      ]
    },
    {
      "cell_type": "code",
      "metadata": {
        "id": "MG4PdCIJJHec"
      },
      "source": [
        "def sum_of_multiples_optimized(first_multiple, second_multiple, max):\n",
        "  return int((first_multiple * (((max // first_multiple) * ((max // first_multiple) + 1)) / 2))) + int((second_multiple * (((max // second_multiple) * ((max // second_multiple) + 1)) / 2))) - int(((first_multiple * second_multiple) * (((max//(first_multiple * second_multiple)) * (((max // (first_multiple * second_multiple)) + 1) / 2)))))"
      ],
      "execution_count": 52,
      "outputs": []
    },
    {
      "cell_type": "code",
      "metadata": {
        "colab": {
          "base_uri": "https://localhost:8080/"
        },
        "id": "gH68hlZt59u2",
        "outputId": "c267a3b6-47f8-4391-f0d1-42138ef61214"
      },
      "source": [
        "%time print(\"The optimized version gives the answer \", sum_of_multiples_optimized(3, 5, 999))"
      ],
      "execution_count": 53,
      "outputs": [
        {
          "output_type": "stream",
          "name": "stdout",
          "text": [
            "The optimized version gives the answer  233168\n",
            "CPU times: user 73 µs, sys: 0 ns, total: 73 µs\n",
            "Wall time: 76.5 µs\n"
          ]
        }
      ]
    },
    {
      "cell_type": "markdown",
      "metadata": {
        "id": "7ki53oVv_V-J"
      },
      "source": [
        "Compared to the brute force version, the optimized version runs in about 2.7% of the time (2.83ms vs 76.5us).\n",
        "\n",
        "It can be explain by the fact that the bruteforce version scale linearly O(n), it iterates through a loop until the max number, but the optimized version runs in constant O(1) time, since whatever the max number is, it will always do the same calculations."
      ]
    },
    {
      "cell_type": "markdown",
      "metadata": {
        "id": "XQ3konkyVjJw"
      },
      "source": [
        "## #2 Even Fibonacci numbers"
      ]
    },
    {
      "cell_type": "markdown",
      "metadata": {
        "id": "_62f96SzF5i4"
      },
      "source": [
        "<p>Each new term in the Fibonacci sequence is generated by adding the previous two terms. By starting with 1 and 2, the first 10 terms will be:</p>\n",
        "<p class=\"center\">1, 2, 3, 5, 8, 13, 21, 34, 55, 89, ...</p>\n",
        "<p>By considering the terms in the Fibonacci sequence whose values do not exceed four million, find the sum of the even-valued terms.</p>"
      ]
    },
    {
      "cell_type": "code",
      "metadata": {
        "id": "wwcQE1SMTtwh"
      },
      "source": [
        "def sum_even_fibonaci(max):\n",
        "  sum = 2\n",
        "  current = 0\n",
        "  first = 1\n",
        "  second = 2\n",
        "\n",
        "  while current < max:\n",
        "    current = first + second\n",
        "    if current % 2 == 0:\n",
        "      sum += current\n",
        "\n",
        "    first = second\n",
        "    second = current\n",
        "\n",
        "  return sum"
      ],
      "execution_count": null,
      "outputs": []
    },
    {
      "cell_type": "code",
      "metadata": {
        "colab": {
          "base_uri": "https://localhost:8080/"
        },
        "id": "GH6oNj8kWqz0",
        "outputId": "7d6c2d42-01e0-4d45-ef63-cb5338d7932e"
      },
      "source": [
        "print(\"The answer is \", sum_even_fibonaci(4000000))"
      ],
      "execution_count": null,
      "outputs": [
        {
          "output_type": "stream",
          "name": "stdout",
          "text": [
            "The answer is  4613732\n"
          ]
        }
      ]
    },
    {
      "cell_type": "markdown",
      "metadata": {
        "id": "e-EnPZ5AXeOk"
      },
      "source": [
        "## #3 Largest prime factor"
      ]
    },
    {
      "cell_type": "markdown",
      "metadata": {
        "id": "_S834bq4F78d"
      },
      "source": [
        "<p>The prime factors of 13195 are 5, 7, 13 and 29.</p>\n",
        "<p>What is the largest prime factor of the number 600851475143 ?</p>"
      ]
    },
    {
      "cell_type": "code",
      "metadata": {
        "id": "S-up0hZEYg1n"
      },
      "source": [
        "import random\n",
        "\n",
        "# Miller-Rabbin Primalty test from my RSA Lab at Bois-de-Boulogne in 2019 (https://github.com/Fredestroyer007/LaboratoireRSA_BdeB2019/blob/master/LabRSA.ipynb)\n",
        "def is_prime(n, k=128):\n",
        "    # test si le nombre est impair ou si = 2\n",
        "    if n == 2 or n == 3:\n",
        "        return True\n",
        "    if n <= 1 or n % 2 == 0:\n",
        "        return False\n",
        "    # trouve r et s\n",
        "    s = 0\n",
        "    r = n - 1\n",
        "    while r & 1 == 0:\n",
        "        s += 1\n",
        "        r //= 2\n",
        "    # fait k nombre de tests\n",
        "    for _ in range(k):\n",
        "        a = random.randrange(2, n - 1)\n",
        "        x = pow(a, r, n)\n",
        "        if x != 1 and x != n - 1:\n",
        "            j = 1\n",
        "            while j < s and x != n - 1:\n",
        "                x = pow(x, 2, n)\n",
        "                if x == 1:\n",
        "                    return False\n",
        "                j += 1\n",
        "            if x != n - 1:\n",
        "                return False\n",
        "    return True"
      ],
      "execution_count": 60,
      "outputs": []
    },
    {
      "cell_type": "code",
      "metadata": {
        "id": "feezcXWqWsxC"
      },
      "source": [
        "import math\n",
        "\n",
        "def largest_prime(num):\n",
        "  largest = 0\n",
        "  for i in range(1, int(math.sqrt(num))):\n",
        "    if num % i == 0:\n",
        "      if is_prime(i):\n",
        "        largest = i\n",
        "\n",
        "  return largest"
      ],
      "execution_count": 67,
      "outputs": []
    },
    {
      "cell_type": "code",
      "metadata": {
        "colab": {
          "base_uri": "https://localhost:8080/"
        },
        "id": "uBmChw_LcoWL",
        "outputId": "934520e6-cd89-41a6-cac9-8c0fc773609c"
      },
      "source": [
        "%time print(\"The largest prime is\", largest_prime(600851475143))"
      ],
      "execution_count": 68,
      "outputs": [
        {
          "output_type": "stream",
          "name": "stdout",
          "text": [
            "The largest prime is 6857\n",
            "CPU times: user 105 ms, sys: 0 ns, total: 105 ms\n",
            "Wall time: 108 ms\n"
          ]
        }
      ]
    },
    {
      "cell_type": "markdown",
      "metadata": {
        "id": "1uFitrQlFU-f"
      },
      "source": [
        "Also, we can factor out all the prime factor below the square root, the remainder will be the largest prime factor of the number."
      ]
    },
    {
      "cell_type": "code",
      "metadata": {
        "id": "I_O_SmmDDhOX"
      },
      "source": [
        "import math\n",
        "\n",
        "def largest_prime_optimized(num):\n",
        "  i = 2\n",
        "\n",
        "  while (i <= math.sqrt(num)):\n",
        "    if (num % i == 0):\n",
        "      num /= i\n",
        "    else:\n",
        "      i += 1\n",
        "\n",
        "  return int(num)"
      ],
      "execution_count": 89,
      "outputs": []
    },
    {
      "cell_type": "code",
      "metadata": {
        "colab": {
          "base_uri": "https://localhost:8080/"
        },
        "id": "nDk5_8ysEAs7",
        "outputId": "d4a2a855-604d-44e9-d004-4e7f3f8fc3c6"
      },
      "source": [
        "%time print(\"The optimized version gives us \", largest_prime_optimized(600851475143))"
      ],
      "execution_count": 96,
      "outputs": [
        {
          "output_type": "stream",
          "name": "stdout",
          "text": [
            "The optimized version gives us  6857\n",
            "CPU times: user 609 µs, sys: 0 ns, total: 609 µs\n",
            "Wall time: 614 µs\n"
          ]
        }
      ]
    },
    {
      "cell_type": "markdown",
      "metadata": {
        "id": "M2gsg5b7F1Li"
      },
      "source": [
        "Compared to the brute force version, the optimized version runs in about 0.57% of the time (108ms vs 614us)."
      ]
    },
    {
      "cell_type": "markdown",
      "metadata": {
        "id": "Evit5DpHdtLT"
      },
      "source": [
        "## #4 Largest palindrome product"
      ]
    },
    {
      "cell_type": "markdown",
      "metadata": {
        "id": "hWxV4Vf3GBIQ"
      },
      "source": [
        "<p>A palindromic number reads the same both ways. The largest palindrome made from the product of two 2-digit numbers is 9009 = 91 × 99.</p>\n",
        "<p>Find the largest palindrome made from the product of two 3-digit numbers.</p>"
      ]
    },
    {
      "cell_type": "code",
      "metadata": {
        "id": "X1yUulh7c6CV"
      },
      "source": [
        "def largest_palindrome_product():\n",
        "  first = 999\n",
        "  second = 999\n",
        "\n",
        "  while True:\n",
        "    temp = str(first * second)\n",
        "\n",
        "    if temp == temp[::-1]:\n",
        "      print(\"The largest palindrome is \", first*second)\n",
        "      break\n",
        "    else:\n",
        "      second -= 1\n",
        "    \n",
        "    if second == 990:\n",
        "      second = 999\n",
        "      first -= 1"
      ],
      "execution_count": null,
      "outputs": []
    },
    {
      "cell_type": "code",
      "metadata": {
        "colab": {
          "base_uri": "https://localhost:8080/"
        },
        "id": "LmCAb-tgelkz",
        "outputId": "417f6211-b16b-47b4-f4b2-a04dd16e6134"
      },
      "source": [
        "largest_palindrome_product()"
      ],
      "execution_count": null,
      "outputs": [
        {
          "output_type": "stream",
          "name": "stdout",
          "text": [
            "The largest palindrome is  906609\n"
          ]
        }
      ]
    },
    {
      "cell_type": "markdown",
      "metadata": {
        "id": "sRm7D2OADVn5"
      },
      "source": [
        "## #5 Smallest multiple"
      ]
    },
    {
      "cell_type": "markdown",
      "metadata": {
        "id": "96QmM6_EDacR"
      },
      "source": [
        "<p>2520 is the smallest number that can be divided by each of the numbers from 1 to 10 without any remainder.</p>\n",
        "<p>What is the smallest positive number that is <dfn title=\"divisible with no remainder\">evenly divisible</dfn> by all of the numbers from 1 to 20?</p>"
      ]
    },
    {
      "cell_type": "code",
      "metadata": {
        "id": "ZQtABAQdeuBD"
      },
      "source": [
        "def smallest_multiple(max_multiple):\n",
        "  num = max_multiple * 2\n",
        "\n",
        "  while True:\n",
        "    is_multiple = True\n",
        "\n",
        "    for i in range(1, max_multiple+1):\n",
        "      if num % i != 0 and is_multiple == True:\n",
        "        is_multiple = False\n",
        "    \n",
        "    if is_multiple == True:\n",
        "      return num\n",
        "      break\n",
        "    else:\n",
        "      num += max_multiple"
      ],
      "execution_count": null,
      "outputs": []
    },
    {
      "cell_type": "code",
      "metadata": {
        "colab": {
          "base_uri": "https://localhost:8080/"
        },
        "id": "750RfduCFEdI",
        "outputId": "0d4ce358-e373-4bfc-f297-1678dc1a3aef"
      },
      "source": [
        "print(\"The smallest multiple is \", smallest_multiple(20))"
      ],
      "execution_count": null,
      "outputs": [
        {
          "output_type": "stream",
          "name": "stdout",
          "text": [
            "The smallest multiple is  232792560\n"
          ]
        }
      ]
    },
    {
      "cell_type": "markdown",
      "metadata": {
        "id": "hgUtbD8IGOjc"
      },
      "source": [
        "## #6 Sum square difference"
      ]
    },
    {
      "cell_type": "markdown",
      "metadata": {
        "id": "REkyPNnOGXAq"
      },
      "source": [
        "<p>The sum of the squares of the first ten natural numbers is,</p>\n",
        "$$1^2 + 2^2 + ... + 10^2 = 385$$\n",
        "<p>The square of the sum of the first ten natural numbers is,</p>\n",
        "$$(1 + 2 + ... + 10)^2 = 55^2 = 3025$$\n",
        "<p>Hence the difference between the sum of the squares of the first ten natural numbers and the square of the sum is $3025 - 385 = 2640$.</p>\n",
        "<p>Find the difference between the sum of the squares of the first one hundred natural numbers and the square of the sum.</p>"
      ]
    },
    {
      "cell_type": "code",
      "metadata": {
        "id": "H3MZ8hanFMdp"
      },
      "source": [
        "def sum_square_difference(max):\n",
        "  sum_square = 0\n",
        "  sum = 0 \n",
        "\n",
        "  for i in range(1, max + 1):\n",
        "    sum_square += i**2\n",
        "    sum += i\n",
        "\n",
        "  return sum**2 - sum_square"
      ],
      "execution_count": null,
      "outputs": []
    },
    {
      "cell_type": "code",
      "metadata": {
        "colab": {
          "base_uri": "https://localhost:8080/"
        },
        "id": "BuGAqczwH17y",
        "outputId": "fc5e942f-9b41-4bcb-c968-4a38002c42f5"
      },
      "source": [
        "print(\"The difference of sum square is \", sum_square_difference(100))"
      ],
      "execution_count": null,
      "outputs": [
        {
          "output_type": "stream",
          "name": "stdout",
          "text": [
            "The difference of sum square is  25164150\n"
          ]
        }
      ]
    },
    {
      "cell_type": "markdown",
      "metadata": {
        "id": "R79KBDGrID8v"
      },
      "source": [
        "## #7 10001st prime"
      ]
    },
    {
      "cell_type": "markdown",
      "metadata": {
        "id": "IiguUlpBILpQ"
      },
      "source": [
        "<p>By listing the first six prime numbers: 2, 3, 5, 7, 11, and 13, we can see that the 6th prime is 13.</p>\n",
        "<p>What is the 10 001st prime number?</p>"
      ]
    },
    {
      "cell_type": "code",
      "metadata": {
        "id": "48_YzPPUH4Os"
      },
      "source": [
        "def find_certain_number_of_primes(prime_to_find):\n",
        "  num = 2\n",
        "  i = 0\n",
        "\n",
        "  while True:\n",
        "    if is_prime(num):\n",
        "      i += 1\n",
        "\n",
        "      if i == prime_to_find:\n",
        "        return num\n",
        "\n",
        "    num += 1"
      ],
      "execution_count": null,
      "outputs": []
    },
    {
      "cell_type": "code",
      "metadata": {
        "colab": {
          "base_uri": "https://localhost:8080/"
        },
        "id": "diLpy5jyJTm7",
        "outputId": "1aedcd2b-a485-4406-bbfd-38fdf426a36f"
      },
      "source": [
        "print(\"The prime is \", find_certain_number_of_primes(10001))"
      ],
      "execution_count": null,
      "outputs": [
        {
          "output_type": "execute_result",
          "data": {
            "text/plain": [
              "104743"
            ]
          },
          "metadata": {},
          "execution_count": 25
        }
      ]
    },
    {
      "cell_type": "markdown",
      "metadata": {
        "id": "5x7-k1HZJulo"
      },
      "source": [
        "## #8 Largest product in a series"
      ]
    },
    {
      "cell_type": "markdown",
      "metadata": {
        "id": "-wWMonC8Jy_x"
      },
      "source": [
        "<p>The four adjacent digits in the 1000-digit number that have the greatest product are 9 × 9 × 8 × 9 = 5832.</p>\n",
        "<p class=\"monospace center\">\n",
        "73167176531330624919225119674426574742355349194934<br />\n",
        "96983520312774506326239578318016984801869478851843<br />\n",
        "85861560789112949495459501737958331952853208805511<br />\n",
        "12540698747158523863050715693290963295227443043557<br />\n",
        "66896648950445244523161731856403098711121722383113<br />\n",
        "62229893423380308135336276614282806444486645238749<br />\n",
        "30358907296290491560440772390713810515859307960866<br />\n",
        "70172427121883998797908792274921901699720888093776<br />\n",
        "65727333001053367881220235421809751254540594752243<br />\n",
        "52584907711670556013604839586446706324415722155397<br />\n",
        "53697817977846174064955149290862569321978468622482<br />\n",
        "83972241375657056057490261407972968652414535100474<br />\n",
        "82166370484403199890008895243450658541227588666881<br />\n",
        "16427171479924442928230863465674813919123162824586<br />\n",
        "17866458359124566529476545682848912883142607690042<br />\n",
        "24219022671055626321111109370544217506941658960408<br />\n",
        "07198403850962455444362981230987879927244284909188<br />\n",
        "84580156166097919133875499200524063689912560717606<br />\n",
        "05886116467109405077541002256983155200055935729725<br />\n",
        "71636269561882670428252483600823257530420752963450<br /></p>\n",
        "<p>Find the thirteen adjacent digits in the 1000-digit number that have the greatest product. What is the value of this product?</p>"
      ]
    },
    {
      "cell_type": "code",
      "metadata": {
        "colab": {
          "base_uri": "https://localhost:8080/"
        },
        "id": "Flybmm3LKR7L",
        "outputId": "c6a07097-56ce-4f25-9756-d8eed50f2876"
      },
      "source": [
        "# let's use a string to store to series to make it easier to go through it\n",
        "serie = \"73167176531330624919225119674426574742355349194934\" \\\n",
        "\"96983520312774506326239578318016984801869478851843\" \\\n",
        "\"85861560789112949495459501737958331952853208805511\" \\\n",
        "\"12540698747158523863050715693290963295227443043557\" \\\n",
        "\"66896648950445244523161731856403098711121722383113\" \\\n",
        "\"62229893423380308135336276614282806444486645238749\" \\\n",
        "\"30358907296290491560440772390713810515859307960866\" \\\n",
        "\"70172427121883998797908792274921901699720888093776\" \\\n",
        "\"65727333001053367881220235421809751254540594752243\" \\\n",
        "\"52584907711670556013604839586446706324415722155397\" \\\n",
        "\"53697817977846174064955149290862569321978468622482\" \\\n",
        "\"83972241375657056057490261407972968652414535100474\" \\\n",
        "\"82166370484403199890008895243450658541227588666881\" \\\n",
        "\"16427171479924442928230863465674813919123162824586\" \\\n",
        "\"17866458359124566529476545682848912883142607690042\" \\\n",
        "\"24219022671055626321111109370544217506941658960408\" \\\n",
        "\"07198403850962455444362981230987879927244284909188\" \\\n",
        "\"84580156166097919133875499200524063689912560717606\" \\\n",
        "\"05886116467109405077541002256983155200055935729725\" \\\n",
        "\"71636269561882670428252483600823257530420752963450\"\n",
        "\n",
        "# check if the lenght of the string is right\n",
        "print(\"The lenght is correct!\") if len(serie) == 1000 else print(\"The lenght of the string is not 1000!\")"
      ],
      "execution_count": null,
      "outputs": [
        {
          "output_type": "stream",
          "name": "stdout",
          "text": [
            "The lenght is correct!\n"
          ]
        }
      ]
    },
    {
      "cell_type": "code",
      "metadata": {
        "id": "mNckvIsiJ2ct"
      },
      "source": [
        "def largest_product_series(serie, lenght_product):\n",
        "  max_product = 0\n",
        "  temp_product = 0\n",
        "\n",
        "  for i in range(0, len(serie) - lenght_product):\n",
        "    temp_product = int(serie[i])\n",
        "    \n",
        "    for y in range(1, lenght_product):\n",
        "      temp_product *= int(serie[i+y])\n",
        "    \n",
        "    if temp_product > max_product:\n",
        "      max_product = temp_product\n",
        "\n",
        "  return max_product"
      ],
      "execution_count": null,
      "outputs": []
    },
    {
      "cell_type": "code",
      "metadata": {
        "colab": {
          "base_uri": "https://localhost:8080/"
        },
        "id": "tL1uO3YOLNd_",
        "outputId": "abc1e63d-329c-4ef8-b5f5-9bb34d64c14b"
      },
      "source": [
        "print(\"The largest product is \", largest_product_series(serie, 13))"
      ],
      "execution_count": null,
      "outputs": [
        {
          "output_type": "stream",
          "name": "stdout",
          "text": [
            "The largest product is  23514624000\n"
          ]
        }
      ]
    },
    {
      "cell_type": "markdown",
      "metadata": {
        "id": "_L138rVZOyk6"
      },
      "source": [
        "## #9 Special Pythagorean triplet"
      ]
    },
    {
      "cell_type": "markdown",
      "metadata": {
        "id": "6yZrSHi9O16e"
      },
      "source": [
        "<p>A Pythagorean triplet is a set of three natural numbers, <var>a</var> &lt; <var>b</var> &lt; <var>c</var>, for which,</p>\n",
        "<div class=\"center\"> <var>a</var><sup>2</sup> + <var>b</var><sup>2</sup> = <var>c</var><sup>2</sup></div>\n",
        "<p>For example, 3<sup>2</sup> + 4<sup>2</sup> = 9 + 16 = 25 = 5<sup>2</sup>.</p>\n",
        "<p>There exists exactly one Pythagorean triplet for which <var>a</var> + <var>b</var> + <var>c</var> = 1000.<br />Find the product <var>abc</var>.</p>"
      ]
    },
    {
      "cell_type": "code",
      "metadata": {
        "id": "NNUnTXtyNPhD"
      },
      "source": [
        "import math\n",
        "\n",
        "def find_pythagorean_triplet(num):\n",
        "  for b in range(2, num):\n",
        "    for a in range(1, b):\n",
        "      c = math.sqrt(a**2 + b**2) \n",
        "\n",
        "      if c - int(c) == 0 and c > a and c > b and a + b + c == num :\n",
        "        return int(a*b*c)\n",
        "\n",
        "  return False"
      ],
      "execution_count": null,
      "outputs": []
    },
    {
      "cell_type": "code",
      "metadata": {
        "colab": {
          "base_uri": "https://localhost:8080/"
        },
        "id": "zaPnLQtsS1BX",
        "outputId": "6c4936c6-55e1-4182-a581-287647107287"
      },
      "source": [
        "print(\"The product of the Pythagorean triplet is \", find_pythagorean_triplet(1000))"
      ],
      "execution_count": null,
      "outputs": [
        {
          "output_type": "stream",
          "name": "stdout",
          "text": [
            "The product of the Pythagorean triplet is  31875000\n"
          ]
        }
      ]
    },
    {
      "cell_type": "markdown",
      "metadata": {
        "id": "4VQ03uUMTL97"
      },
      "source": [
        "To read later: https://math.stackexchange.com/questions/131330/detecting-perfect-squares-faster-than-by-extracting-square-root/712818#712818"
      ]
    },
    {
      "cell_type": "markdown",
      "metadata": {
        "id": "oUSOceA4Tgab"
      },
      "source": [
        "## #10 Summation of primes"
      ]
    },
    {
      "cell_type": "markdown",
      "metadata": {
        "id": "MCyYfGEFTiM4"
      },
      "source": [
        "<p>The sum of the primes below 10 is 2 + 3 + 5 + 7 = 17.</p>\n",
        "<p>Find the sum of all the primes below two million.</p>"
      ]
    },
    {
      "cell_type": "code",
      "metadata": {
        "id": "35evmIpWTlSt"
      },
      "source": [
        "def sum_of_primes(max_num):\n",
        "  sum = 2\n",
        "\n",
        "  for i in range(3, max_num, 2):\n",
        "    if is_prime(i):\n",
        "      sum += i\n",
        "\n",
        "  return sum"
      ],
      "execution_count": null,
      "outputs": []
    },
    {
      "cell_type": "code",
      "metadata": {
        "colab": {
          "base_uri": "https://localhost:8080/"
        },
        "id": "tkGjJGEsT5Ng",
        "outputId": "1486399b-4f77-4a42-b21d-3f42357c5e9e"
      },
      "source": [
        "print(\"The sum of primes is \", sum_of_primes(2000000))"
      ],
      "execution_count": null,
      "outputs": [
        {
          "output_type": "stream",
          "name": "stdout",
          "text": [
            "The sum of primes is  142913828922\n"
          ]
        }
      ]
    },
    {
      "cell_type": "markdown",
      "metadata": {
        "id": "agOkEXcgVZNN"
      },
      "source": [
        "## #11 Largest product in a grid"
      ]
    },
    {
      "cell_type": "markdown",
      "metadata": {
        "id": "qtxNxIBTV7OW"
      },
      "source": [
        "<p>In the 20×20 grid below, four numbers along a diagonal line have been marked in red.</p>\n",
        "<p class=\"monospace center\">\n",
        "08 02 22 97 38 15 00 40 00 75 04 05 07 78 52 12 50 77 91 08<br />\n",
        "49 49 99 40 17 81 18 57 60 87 17 40 98 43 69 48 04 56 62 00<br />\n",
        "81 49 31 73 55 79 14 29 93 71 40 67 53 88 30 03 49 13 36 65<br />\n",
        "52 70 95 23 04 60 11 42 69 24 68 56 01 32 56 71 37 02 36 91<br />\n",
        "22 31 16 71 51 67 63 89 41 92 36 54 22 40 40 28 66 33 13 80<br />\n",
        "24 47 32 60 99 03 45 02 44 75 33 53 78 36 84 20 35 17 12 50<br />\n",
        "32 98 81 28 64 23 67 10 <span class=\"red\"><b>26</b></span> 38 40 67 59 54 70 66 18 38 64 70<br />\n",
        "67 26 20 68 02 62 12 20 95 <span class=\"red\"><b>63</b></span> 94 39 63 08 40 91 66 49 94 21<br />\n",
        "24 55 58 05 66 73 99 26 97 17 <span class=\"red\"><b>78</b></span> 78 96 83 14 88 34 89 63 72<br />\n",
        "21 36 23 09 75 00 76 44 20 45 35 <span class=\"red\"><b>14</b></span> 00 61 33 97 34 31 33 95<br />\n",
        "78 17 53 28 22 75 31 67 15 94 03 80 04 62 16 14 09 53 56 92<br />\n",
        "16 39 05 42 96 35 31 47 55 58 88 24 00 17 54 24 36 29 85 57<br />\n",
        "86 56 00 48 35 71 89 07 05 44 44 37 44 60 21 58 51 54 17 58<br />\n",
        "19 80 81 68 05 94 47 69 28 73 92 13 86 52 17 77 04 89 55 40<br />\n",
        "04 52 08 83 97 35 99 16 07 97 57 32 16 26 26 79 33 27 98 66<br />\n",
        "88 36 68 87 57 62 20 72 03 46 33 67 46 55 12 32 63 93 53 69<br />\n",
        "04 42 16 73 38 25 39 11 24 94 72 18 08 46 29 32 40 62 76 36<br />\n",
        "20 69 36 41 72 30 23 88 34 62 99 69 82 67 59 85 74 04 36 16<br />\n",
        "20 73 35 29 78 31 90 01 74 31 49 71 48 86 81 16 23 57 05 54<br />\n",
        "01 70 54 71 83 51 54 69 16 92 33 48 61 43 52 01 89 19 67 48<br /></p>\n",
        "<p>The product of these numbers is 26 × 63 × 78 × 14 = 1788696.</p>\n",
        "<p>What is the greatest product of four adjacent numbers in the same direction (up, down, left, right, or diagonally) in the 20×20 grid?</p>"
      ]
    },
    {
      "cell_type": "code",
      "metadata": {
        "id": "kn6vAItbmpPv"
      },
      "source": [
        "grid = [[8,2,22,97,38,15,0,40,0,75,4,5,7,78,52,12,50,77,91,8],\n",
        "        [49,49,99,40,17,81,18,57,60,87,17,40,98,43,69,48,4,56,62,0],\n",
        "        [81,49,31,73,55,79,14,29,93,71,40,67,53,88,30,3,49,13,36,65],\n",
        "        [52,70,95,23,4,60,11,42,69,24,68,56,1,32,56,71,37,2,36,91],\n",
        "        [22,31,16,71,51,67,63,89,41,92,36,54,22,40,40,28,66,33,13,80],\n",
        "        [24,47,32,60,99,3,45,2,44,75,33,53,78,36,84,20,35,17,12,50],\n",
        "        [32,98,81,28,64,23,67,10,26,38,40,67,59,54,70,66,18,38,64,70],\n",
        "        [67,26,20,68,2,62,12,20,95,63,94,39,63,8,40,91,66,49,94,21],\n",
        "        [24,55,58,5,66,73,99,26,97,17,78,78,96,83,14,88,34,89,63,72],\n",
        "        [21,36,23,9,75,0,76,44,20,45,35,14,0,61,33,97,34,31,33,95],\n",
        "        [78,17,53,28,22,75,31,67,15,94,3,80,4,62,16,14,9,53,56,92],\n",
        "        [16,39,5,42,96,35,31,47,55,58,88,24,0,17,54,24,36,29,85,57],\n",
        "        [86,56,0,48,35,71,89,7,5,44,44,37,44,60,21,58,51,54,17,58],\n",
        "        [19,80,81,68,5,94,47,69,28,73,92,13,86,52,17,77,4,89,55,40],\n",
        "        [4,52,8,83,97,35,99,16,7,97,57,32,16,26,26,79,33,27,98,66],\n",
        "        [88,36,68,87,57,62,20,72,3,46,33,67,46,55,12,32,63,93,53,69],\n",
        "        [4,42,16,73,38,25,39,11,24,94,72,18,8,46,29,32,40,62,76,36],\n",
        "        [20,69,36,41,72,30,23,88,34,62,99,69,82,67,59,85,74,4,36,16],\n",
        "        [20,73,35,29,78,31,90,1,74,31,49,71,48,86,81,16,23,57,5,54],\n",
        "        [1,70,54,71,83,51,54,69,16,92,33,48,61,43,52,1,89,19,67,48],]"
      ],
      "execution_count": null,
      "outputs": []
    },
    {
      "cell_type": "code",
      "metadata": {
        "id": "Zey_UgVt7UxE"
      },
      "source": [
        "# As of September 2021, Colab is running Python 3.7, math.prod() is only available in Python 3.8...\n",
        "def prod(iterable):\n",
        "    i = 1\n",
        "\n",
        "    for n in iterable:\n",
        "        i *= n\n",
        "    return i"
      ],
      "execution_count": null,
      "outputs": []
    },
    {
      "cell_type": "code",
      "metadata": {
        "id": "nx9tqSoNyvbk"
      },
      "source": [
        "def largest_produce_grid(grid, num_adjacent):\n",
        "  maximum = 0      \n",
        "  horizontal = 0\n",
        "  vertical = 0\n",
        "  diagonal_left = 0\n",
        "  diagonal_right = 0\n",
        "\n",
        "  for x in range(20):\n",
        "    for y in range(20):\n",
        "      if x < 17:\n",
        "        horizontal = prod(grid[y][x+i] for i in range(4))\n",
        "      if y < 17:\n",
        "        vertical = prod(grid[y+i][x] for i in range(4))\n",
        "      if x < 17 and y < 17:\n",
        "        diagonal_right = prod(grid[y+i][x+i] for i in range(4))\n",
        "      if x > 3 and y < 17:\n",
        "        diagonal_left = prod(grid[y+i][x-i] for i in range(4))\n",
        "\n",
        "      temp = max(vertical, horizontal, diagonal_right, diagonal_left)\n",
        "\n",
        "      horizontal = 0\n",
        "      vertical = 0\n",
        "      diagonal_left = 0\n",
        "      diagonal_right = 0\n",
        "      \n",
        "\n",
        "      if maximum < temp:\n",
        "        maximum = temp\n",
        "  \n",
        "  return maximum"
      ],
      "execution_count": null,
      "outputs": []
    },
    {
      "cell_type": "code",
      "metadata": {
        "colab": {
          "base_uri": "https://localhost:8080/"
        },
        "id": "eIl-gj2X1fHR",
        "outputId": "3c28eb05-6de5-498c-8272-1561a9a422d4"
      },
      "source": [
        "print(\"The largest product in the grid is \", largest_produce_grid(grid, 4))"
      ],
      "execution_count": null,
      "outputs": [
        {
          "output_type": "stream",
          "name": "stdout",
          "text": [
            "The largest product in the grid is  70600674\n"
          ]
        }
      ]
    },
    {
      "cell_type": "markdown",
      "metadata": {
        "id": "W_aq3kuE_Iow"
      },
      "source": [
        "## #12 Highly divisible triangular number"
      ]
    },
    {
      "cell_type": "markdown",
      "metadata": {
        "id": "_XZN844a_NJf"
      },
      "source": [
        "<p>The sequence of triangle numbers is generated by adding the natural numbers. So the 7<sup>th</sup> triangle number would be 1 + 2 + 3 + 4 + 5 + 6 + 7 = 28. The first ten terms would be:</p>\n",
        "<p class=\"center\">1, 3, 6, 10, 15, 21, 28, 36, 45, 55, ...</p>\n",
        "<p>Let us list the factors of the first seven triangle numbers:</p>\n",
        "<blockquote class=\"monospace\"><b> 1</b>: 1<br /><b> 3</b>: 1,3<br /><b> 6</b>: 1,2,3,6<br /><b>10</b>: 1,2,5,10<br /><b>15</b>: 1,3,5,15<br /><b>21</b>: 1,3,7,21<br /><b>28</b>: 1,2,4,7,14,28</blockquote>\n",
        "<p>We can see that 28 is the first triangle number to have over five divisors.</p>\n",
        "<p>What is the value of the first triangle number to have over five hundred divisors?</p>"
      ]
    },
    {
      "cell_type": "code",
      "metadata": {
        "id": "_aINsXe81y-f"
      },
      "source": [
        "import math\n",
        "\n",
        "def divisible_triangle_number(num_divisor):\n",
        "  num = 1\n",
        "\n",
        "  while True:\n",
        "    triangle_number = sum(i for i in range(1, num+1))\n",
        "\n",
        "    count = 0\n",
        "\n",
        "    for i in range(1, int(math.sqrt(triangle_number))):\n",
        "      if triangle_number % i == 0:\n",
        "        count += 2 # found first part of pair\n",
        "\n",
        "        if count > num_divisor:\n",
        "          return triangle_number\n",
        "          break\n",
        "\n",
        "    num += 1"
      ],
      "execution_count": 57,
      "outputs": []
    },
    {
      "cell_type": "code",
      "metadata": {
        "colab": {
          "base_uri": "https://localhost:8080/"
        },
        "id": "Gf_xN2EdAk33",
        "outputId": "efbc912d-14e1-442d-832b-2aea07b40fb5"
      },
      "source": [
        "%time print(\"The higly divisible triangle number is \", divisible_triangle_number(500))"
      ],
      "execution_count": 59,
      "outputs": [
        {
          "output_type": "stream",
          "name": "stdout",
          "text": [
            "The higly divisible triangle number is  76576500\n",
            "CPU times: user 9.62 s, sys: 0 ns, total: 9.62 s\n",
            "Wall time: 9.66 s\n"
          ]
        }
      ]
    },
    {
      "cell_type": "markdown",
      "metadata": {
        "id": "ndH0t2OtPLIg"
      },
      "source": [
        "## #13 Large Sum"
      ]
    },
    {
      "cell_type": "markdown",
      "metadata": {
        "id": "Yh_ZJa6aNqa4"
      },
      "source": [
        "<p>Work out the first ten digits of the sum of the following one-hundred 50-digit numbers.</p>\n",
        "<div class=\"monospace center\">\n",
        "37107287533902102798797998220837590246510135740250<br />\n",
        "46376937677490009712648124896970078050417018260538<br />\n",
        "74324986199524741059474233309513058123726617309629<br />\n",
        "91942213363574161572522430563301811072406154908250<br />\n",
        "23067588207539346171171980310421047513778063246676<br />\n",
        "89261670696623633820136378418383684178734361726757<br />\n",
        "28112879812849979408065481931592621691275889832738<br />\n",
        "44274228917432520321923589422876796487670272189318<br />\n",
        "47451445736001306439091167216856844588711603153276<br />\n",
        "70386486105843025439939619828917593665686757934951<br />\n",
        "62176457141856560629502157223196586755079324193331<br />\n",
        "64906352462741904929101432445813822663347944758178<br />\n",
        "92575867718337217661963751590579239728245598838407<br />\n",
        "58203565325359399008402633568948830189458628227828<br />\n",
        "80181199384826282014278194139940567587151170094390<br />\n",
        "35398664372827112653829987240784473053190104293586<br />\n",
        "86515506006295864861532075273371959191420517255829<br />\n",
        "71693888707715466499115593487603532921714970056938<br />\n",
        "54370070576826684624621495650076471787294438377604<br />\n",
        "53282654108756828443191190634694037855217779295145<br />\n",
        "36123272525000296071075082563815656710885258350721<br />\n",
        "45876576172410976447339110607218265236877223636045<br />\n",
        "17423706905851860660448207621209813287860733969412<br />\n",
        "81142660418086830619328460811191061556940512689692<br />\n",
        "51934325451728388641918047049293215058642563049483<br />\n",
        "62467221648435076201727918039944693004732956340691<br />\n",
        "15732444386908125794514089057706229429197107928209<br />\n",
        "55037687525678773091862540744969844508330393682126<br />\n",
        "18336384825330154686196124348767681297534375946515<br />\n",
        "80386287592878490201521685554828717201219257766954<br />\n",
        "78182833757993103614740356856449095527097864797581<br />\n",
        "16726320100436897842553539920931837441497806860984<br />\n",
        "48403098129077791799088218795327364475675590848030<br />\n",
        "87086987551392711854517078544161852424320693150332<br />\n",
        "59959406895756536782107074926966537676326235447210<br />\n",
        "69793950679652694742597709739166693763042633987085<br />\n",
        "41052684708299085211399427365734116182760315001271<br />\n",
        "65378607361501080857009149939512557028198746004375<br />\n",
        "35829035317434717326932123578154982629742552737307<br />\n",
        "94953759765105305946966067683156574377167401875275<br />\n",
        "88902802571733229619176668713819931811048770190271<br />\n",
        "25267680276078003013678680992525463401061632866526<br />\n",
        "36270218540497705585629946580636237993140746255962<br />\n",
        "24074486908231174977792365466257246923322810917141<br />\n",
        "91430288197103288597806669760892938638285025333403<br />\n",
        "34413065578016127815921815005561868836468420090470<br />\n",
        "23053081172816430487623791969842487255036638784583<br />\n",
        "11487696932154902810424020138335124462181441773470<br />\n",
        "63783299490636259666498587618221225225512486764533<br />\n",
        "67720186971698544312419572409913959008952310058822<br />\n",
        "95548255300263520781532296796249481641953868218774<br />\n",
        "76085327132285723110424803456124867697064507995236<br />\n",
        "37774242535411291684276865538926205024910326572967<br />\n",
        "23701913275725675285653248258265463092207058596522<br />\n",
        "29798860272258331913126375147341994889534765745501<br />\n",
        "18495701454879288984856827726077713721403798879715<br />\n",
        "38298203783031473527721580348144513491373226651381<br />\n",
        "34829543829199918180278916522431027392251122869539<br />\n",
        "40957953066405232632538044100059654939159879593635<br />\n",
        "29746152185502371307642255121183693803580388584903<br />\n",
        "41698116222072977186158236678424689157993532961922<br />\n",
        "62467957194401269043877107275048102390895523597457<br />\n",
        "23189706772547915061505504953922979530901129967519<br />\n",
        "86188088225875314529584099251203829009407770775672<br />\n",
        "11306739708304724483816533873502340845647058077308<br />\n",
        "82959174767140363198008187129011875491310547126581<br />\n",
        "97623331044818386269515456334926366572897563400500<br />\n",
        "42846280183517070527831839425882145521227251250327<br />\n",
        "55121603546981200581762165212827652751691296897789<br />\n",
        "32238195734329339946437501907836945765883352399886<br />\n",
        "75506164965184775180738168837861091527357929701337<br />\n",
        "62177842752192623401942399639168044983993173312731<br />\n",
        "32924185707147349566916674687634660915035914677504<br />\n",
        "99518671430235219628894890102423325116913619626622<br />\n",
        "73267460800591547471830798392868535206946944540724<br />\n",
        "76841822524674417161514036427982273348055556214818<br />\n",
        "97142617910342598647204516893989422179826088076852<br />\n",
        "87783646182799346313767754307809363333018982642090<br />\n",
        "10848802521674670883215120185883543223812876952786<br />\n",
        "71329612474782464538636993009049310363619763878039<br />\n",
        "62184073572399794223406235393808339651327408011116<br />\n",
        "66627891981488087797941876876144230030984490851411<br />\n",
        "60661826293682836764744779239180335110989069790714<br />\n",
        "85786944089552990653640447425576083659976645795096<br />\n",
        "66024396409905389607120198219976047599490197230297<br />\n",
        "64913982680032973156037120041377903785566085089252<br />\n",
        "16730939319872750275468906903707539413042652315011<br />\n",
        "94809377245048795150954100921645863754710598436791<br />\n",
        "78639167021187492431995700641917969777599028300699<br />\n",
        "15368713711936614952811305876380278410754449733078<br />\n",
        "40789923115535562561142322423255033685442488917353<br />\n",
        "44889911501440648020369068063960672322193204149535<br />\n",
        "41503128880339536053299340368006977710650566631954<br />\n",
        "81234880673210146739058568557934581403627822703280<br />\n",
        "82616570773948327592232845941706525094512325230608<br />\n",
        "22918802058777319719839450180888072429661980811197<br />\n",
        "77158542502016545090413245809786882778948721859617<br />\n",
        "72107838435069186155435662884062257473692284509516<br />\n",
        "20849603980134001723930671666823555245252804609722<br />\n",
        "53503534226472524250874054075591789781264330331690<br /></div>"
      ]
    },
    {
      "cell_type": "code",
      "metadata": {
        "id": "Lq5C53UxN0bJ"
      },
      "source": [
        "nums = [37107287533902102798797998220837590246510135740250,\n",
        "46376937677490009712648124896970078050417018260538,\n",
        "74324986199524741059474233309513058123726617309629,\n",
        "91942213363574161572522430563301811072406154908250,\n",
        "23067588207539346171171980310421047513778063246676,\n",
        "89261670696623633820136378418383684178734361726757,\n",
        "28112879812849979408065481931592621691275889832738,\n",
        "44274228917432520321923589422876796487670272189318,\n",
        "47451445736001306439091167216856844588711603153276,\n",
        "70386486105843025439939619828917593665686757934951,\n",
        "62176457141856560629502157223196586755079324193331,\n",
        "64906352462741904929101432445813822663347944758178,\n",
        "92575867718337217661963751590579239728245598838407,\n",
        "58203565325359399008402633568948830189458628227828,\n",
        "80181199384826282014278194139940567587151170094390,\n",
        "35398664372827112653829987240784473053190104293586,\n",
        "86515506006295864861532075273371959191420517255829,\n",
        "71693888707715466499115593487603532921714970056938,\n",
        "54370070576826684624621495650076471787294438377604,\n",
        "53282654108756828443191190634694037855217779295145,\n",
        "36123272525000296071075082563815656710885258350721,\n",
        "45876576172410976447339110607218265236877223636045,\n",
        "17423706905851860660448207621209813287860733969412,\n",
        "81142660418086830619328460811191061556940512689692,\n",
        "51934325451728388641918047049293215058642563049483,\n",
        "62467221648435076201727918039944693004732956340691,\n",
        "15732444386908125794514089057706229429197107928209,\n",
        "55037687525678773091862540744969844508330393682126,\n",
        "18336384825330154686196124348767681297534375946515,\n",
        "80386287592878490201521685554828717201219257766954,\n",
        "78182833757993103614740356856449095527097864797581,\n",
        "16726320100436897842553539920931837441497806860984,\n",
        "48403098129077791799088218795327364475675590848030,\n",
        "87086987551392711854517078544161852424320693150332,\n",
        "59959406895756536782107074926966537676326235447210,\n",
        "69793950679652694742597709739166693763042633987085,\n",
        "41052684708299085211399427365734116182760315001271,\n",
        "65378607361501080857009149939512557028198746004375,\n",
        "35829035317434717326932123578154982629742552737307,\n",
        "94953759765105305946966067683156574377167401875275,\n",
        "88902802571733229619176668713819931811048770190271,\n",
        "25267680276078003013678680992525463401061632866526,\n",
        "36270218540497705585629946580636237993140746255962,\n",
        "24074486908231174977792365466257246923322810917141,\n",
        "91430288197103288597806669760892938638285025333403,\n",
        "34413065578016127815921815005561868836468420090470,\n",
        "23053081172816430487623791969842487255036638784583,\n",
        "11487696932154902810424020138335124462181441773470,\n",
        "63783299490636259666498587618221225225512486764533,\n",
        "67720186971698544312419572409913959008952310058822,\n",
        "95548255300263520781532296796249481641953868218774,\n",
        "76085327132285723110424803456124867697064507995236,\n",
        "37774242535411291684276865538926205024910326572967,\n",
        "23701913275725675285653248258265463092207058596522,\n",
        "29798860272258331913126375147341994889534765745501,\n",
        "18495701454879288984856827726077713721403798879715,\n",
        "38298203783031473527721580348144513491373226651381,\n",
        "34829543829199918180278916522431027392251122869539,\n",
        "40957953066405232632538044100059654939159879593635,\n",
        "29746152185502371307642255121183693803580388584903,\n",
        "41698116222072977186158236678424689157993532961922,\n",
        "62467957194401269043877107275048102390895523597457,\n",
        "23189706772547915061505504953922979530901129967519,\n",
        "86188088225875314529584099251203829009407770775672,\n",
        "11306739708304724483816533873502340845647058077308,\n",
        "82959174767140363198008187129011875491310547126581,\n",
        "97623331044818386269515456334926366572897563400500,\n",
        "42846280183517070527831839425882145521227251250327,\n",
        "55121603546981200581762165212827652751691296897789,\n",
        "32238195734329339946437501907836945765883352399886,\n",
        "75506164965184775180738168837861091527357929701337,\n",
        "62177842752192623401942399639168044983993173312731,\n",
        "32924185707147349566916674687634660915035914677504,\n",
        "99518671430235219628894890102423325116913619626622,\n",
        "73267460800591547471830798392868535206946944540724,\n",
        "76841822524674417161514036427982273348055556214818,\n",
        "97142617910342598647204516893989422179826088076852,\n",
        "87783646182799346313767754307809363333018982642090,\n",
        "10848802521674670883215120185883543223812876952786,\n",
        "71329612474782464538636993009049310363619763878039,\n",
        "62184073572399794223406235393808339651327408011116,\n",
        "66627891981488087797941876876144230030984490851411,\n",
        "60661826293682836764744779239180335110989069790714,\n",
        "85786944089552990653640447425576083659976645795096,\n",
        "66024396409905389607120198219976047599490197230297,\n",
        "64913982680032973156037120041377903785566085089252,\n",
        "16730939319872750275468906903707539413042652315011,\n",
        "94809377245048795150954100921645863754710598436791,\n",
        "78639167021187492431995700641917969777599028300699,\n",
        "15368713711936614952811305876380278410754449733078,\n",
        "40789923115535562561142322423255033685442488917353,\n",
        "44889911501440648020369068063960672322193204149535,\n",
        "41503128880339536053299340368006977710650566631954,\n",
        "81234880673210146739058568557934581403627822703280,\n",
        "82616570773948327592232845941706525094512325230608,\n",
        "22918802058777319719839450180888072429661980811197,\n",
        "77158542502016545090413245809786882778948721859617,\n",
        "72107838435069186155435662884062257473692284509516,\n",
        "20849603980134001723930671666823555245252804609722,\n",
        "53503534226472524250874054075591789781264330331690]"
      ],
      "execution_count": 98,
      "outputs": []
    },
    {
      "cell_type": "code",
      "metadata": {
        "id": "sagCFhVhPGX1"
      },
      "source": [
        "def sums_large_numbers(nums):\n",
        "  return str(sum(num for num in nums))[0:10]"
      ],
      "execution_count": 105,
      "outputs": []
    },
    {
      "cell_type": "code",
      "metadata": {
        "colab": {
          "base_uri": "https://localhost:8080/"
        },
        "id": "yGrvbqmJPVmr",
        "outputId": "e58c771f-8fc3-469e-ebd9-06e3afc7b25d"
      },
      "source": [
        "print(\"The first 10 numbers of the sum are \", sums_large_numbers(nums))"
      ],
      "execution_count": 108,
      "outputs": [
        {
          "output_type": "stream",
          "name": "stdout",
          "text": [
            "The first 10 numbers of the sum are  5537376230\n"
          ]
        }
      ]
    },
    {
      "cell_type": "markdown",
      "metadata": {
        "id": "9F7WtFTRQkv5"
      },
      "source": [
        "## #14 Longest Collatz sequence"
      ]
    },
    {
      "cell_type": "markdown",
      "metadata": {
        "id": "nueF6uQJQtok"
      },
      "source": [
        "<p>The following iterative sequence is defined for the set of positive integers:</p>\n",
        "<p class=\"margin_left\"><var>n</var> → <var>n</var>/2 (<var>n</var> is even)<br /><var>n</var> → 3<var>n</var> + 1 (<var>n</var> is odd)</p>\n",
        "<p>Using the rule above and starting with 13, we generate the following sequence:</p>\n",
        "<div class=\"center\">13 → 40 → 20 → 10 → 5 → 16 → 8 → 4 → 2 → 1</div>\n",
        "<p>It can be seen that this sequence (starting at 13 and finishing at 1) contains 10 terms. Although it has not been proved yet (Collatz Problem), it is thought that all starting numbers finish at 1.</p>\n",
        "<p>Which starting number, under one million, produces the longest chain?</p>\n",
        "<p class=\"note\"><b>NOTE:</b> Once the chain starts the terms are allowed to go above one million.</p>"
      ]
    },
    {
      "cell_type": "code",
      "metadata": {
        "id": "EAvEaN_GQhdA"
      },
      "source": [
        "def collatz_sequence(max_lenght):\n",
        "  biggest_chain = [0,0] #number, lenght\n",
        "  cache = []\n",
        "\n",
        "  for i in range(1, max_lenght):\n",
        "    n = i\n",
        "    counter = 0\n",
        "\n",
        "    while n != 1:\n",
        "      if n < i:\n",
        "        counter += cache[int(n)-1]\n",
        "        n = 1\n",
        "      elif n % 2 == 0:\n",
        "        n /= 2\n",
        "        counter +=1\n",
        "      else:\n",
        "        n = 3*n + 1\n",
        "        counter +=1\n",
        "\n",
        "    cache.append(counter)\n",
        "\n",
        "    if counter > biggest_chain[1]:\n",
        "      biggest_chain[0] = i\n",
        "      biggest_chain[1] = counter\n",
        "    \n",
        "  return biggest_chain[0]"
      ],
      "execution_count": 124,
      "outputs": []
    },
    {
      "cell_type": "code",
      "metadata": {
        "colab": {
          "base_uri": "https://localhost:8080/"
        },
        "id": "KRQP5rxtSk4t",
        "outputId": "bd8c3c3b-dccf-463a-a08f-ad683a17e602"
      },
      "source": [
        "%time print('The number with the largest chain is ', collatz_sequence(1000000))"
      ],
      "execution_count": 126,
      "outputs": [
        {
          "output_type": "stream",
          "name": "stdout",
          "text": [
            "The number with the largest chain is  837799\n",
            "CPU times: user 2.26 s, sys: 0 ns, total: 2.26 s\n",
            "Wall time: 2.27 s\n"
          ]
        }
      ]
    },
    {
      "cell_type": "markdown",
      "metadata": {
        "id": "iqX8sCioVxo_"
      },
      "source": [
        "The code is already caching the results to to create a LUT to reduce the number of computations needed, I see no other way to make the code faster."
      ]
    },
    {
      "cell_type": "markdown",
      "metadata": {
        "id": "0gDaWC5PWHlu"
      },
      "source": [
        "## #15 Lattice paths"
      ]
    },
    {
      "cell_type": "markdown",
      "metadata": {
        "id": "FTSFR-6CWMJT"
      },
      "source": [
        "<p>Starting in the top left corner of a 2×2 grid, and only being able to move to the right and down, there are exactly 6 routes to the bottom right corner.</p>\n",
        "<div class=\"center\">\n",
        "<img src=\"project/images/p015.png\" class=\"dark_img\" alt=\"\" /></div>\n",
        "<p>How many such routes are there through a 20×20 grid?</p>"
      ]
    },
    {
      "cell_type": "markdown",
      "metadata": {
        "id": "nKgsoe6TZdAL"
      },
      "source": [
        "In this problem, it is only possible to move to the left or down; ie we make 20 moves to the left and 20 moves to the right to get to the bottom right corner from the top left corner.\n",
        "\n",
        "For a grid of size $n \\times n$, we will make $2n$ travel moves.\n",
        "\n",
        "Now, there are $2n!$ possible moves if we were to make them in any order, but in this problem we move to the left or down, which mean that after each move we reduce the subspace of possible moves, ie $n!$.\n",
        "\n",
        "Putting everything together, we get that :\n",
        "\n",
        "\\begin{equation}\n",
        "\\frac {(2n)!} {n!n!}\n",
        "\\end{equation}"
      ]
    },
    {
      "cell_type": "code",
      "metadata": {
        "id": "qP_oZ8w7SpRG"
      },
      "source": [
        "import math\n",
        "def lattice_path(grid_size):\n",
        "  return int(math.factorial(2*grid_size) / (math.factorial(grid_size) * math.factorial(grid_size)))"
      ],
      "execution_count": 136,
      "outputs": []
    },
    {
      "cell_type": "code",
      "metadata": {
        "colab": {
          "base_uri": "https://localhost:8080/"
        },
        "id": "tky4J3EbajZ_",
        "outputId": "49dfae8b-e1e4-4b77-e640-35677e3d04cc"
      },
      "source": [
        "%time print(\"There are \" + str(lattice_path(20)) + \" routes\")"
      ],
      "execution_count": 141,
      "outputs": [
        {
          "output_type": "stream",
          "name": "stdout",
          "text": [
            "There are 137846528820 routes\n",
            "CPU times: user 120 µs, sys: 18 µs, total: 138 µs\n",
            "Wall time: 108 µs\n"
          ]
        }
      ]
    },
    {
      "cell_type": "markdown",
      "metadata": {
        "id": "XvNK-VMoeZ8Q"
      },
      "source": [
        "The code is already running in constant time, I see no other way to improve it."
      ]
    },
    {
      "cell_type": "markdown",
      "metadata": {
        "id": "dbfjk6i2ehu0"
      },
      "source": [
        "## #16 Power digit sum"
      ]
    },
    {
      "cell_type": "markdown",
      "metadata": {
        "id": "nFIFWMTKelen"
      },
      "source": [
        "<p>2<sup>15</sup> = 32768 and the sum of its digits is 3 + 2 + 7 + 6 + 8 = 26.</p>\n",
        "<p>What is the sum of the digits of the number 2<sup>1000</sup>?</p>"
      ]
    },
    {
      "cell_type": "code",
      "metadata": {
        "id": "-l-B5tH5dk49"
      },
      "source": [
        "def power_digit_sum(power):\n",
        "  return sum(int(num) for num in str(2 ** power))"
      ],
      "execution_count": 142,
      "outputs": []
    },
    {
      "cell_type": "code",
      "metadata": {
        "colab": {
          "base_uri": "https://localhost:8080/"
        },
        "id": "t4l814iQfa7A",
        "outputId": "061b0037-306b-47fd-814b-aa2f30993d9f"
      },
      "source": [
        "%time print(\"The sum is \", power_digit_sum(1000))"
      ],
      "execution_count": 145,
      "outputs": [
        {
          "output_type": "stream",
          "name": "stdout",
          "text": [
            "The sum is  1366\n",
            "CPU times: user 613 µs, sys: 0 ns, total: 613 µs\n",
            "Wall time: 549 µs\n"
          ]
        }
      ]
    },
    {
      "cell_type": "markdown",
      "metadata": {
        "id": "cQx9Vg7Ufmn2"
      },
      "source": [
        "Well... That was easy..."
      ]
    },
    {
      "cell_type": "markdown",
      "metadata": {
        "id": "9SMOieihggi8"
      },
      "source": [
        "## #17 Number letter counts"
      ]
    },
    {
      "cell_type": "markdown",
      "metadata": {
        "id": "TDQWNoIsgipW"
      },
      "source": [
        "<p>If the numbers 1 to 5 are written out in words: one, two, three, four, five, then there are 3 + 3 + 5 + 4 + 4 = 19 letters used in total.</p>\n",
        "<p>If all the numbers from 1 to 1000 (one thousand) inclusive were written out in words, how many letters would be used? </p>\n",
        "<br /><p class=\"note\"><b>NOTE:</b> Do not count spaces or hyphens. For example, 342 (three hundred and forty-two) contains 23 letters and 115 (one hundred and fifteen) contains 20 letters. The use of \"and\" when writing out numbers is in compliance with British usage.</p>"
      ]
    },
    {
      "cell_type": "code",
      "metadata": {
        "id": "0Smlp0iEfdG2"
      },
      "source": [
        "def number_letter_counts():\n",
        "  digits = ['', 'one', 'two', 'three', 'four', 'five', 'six', 'seven', 'eight', 'nine']\n",
        "  tens_weird = ['ten', 'eleven', 'twelve', 'thirteen', 'fourteen', 'fifteen', 'sixteen', 'seventeen', 'eighteen', 'nineteen']\n",
        "  tens = ['', 'ten', 'twenty', 'thirty', 'forty', 'fifty', 'sixty', 'seventy', 'eighty', 'ninety']\n",
        "  hundreds = ['', 'onehundred', 'twohundred', 'threehundred', 'fourhundred', 'fivehundred', 'sixhundred', 'sevenhundred', 'eighthundred', 'ninehundred']\n",
        "\n",
        "  all_letters = \"\"\n",
        "  \n",
        "  for z in range(0, 10):\n",
        "    for i in range(0, 10):\n",
        "      for y in range(0, 10):\n",
        "        if z == 0:\n",
        "          if i == 1:\n",
        "            all_letters += (tens_weird[y])\n",
        "          else:\n",
        "            all_letters += (tens[i] + digits[y])\n",
        "        else: \n",
        "          if i == 1:\n",
        "            all_letters += (hundreds[z] + \"and\" + tens_weird[y])\n",
        "          elif i == 0 and y == 0:\n",
        "            all_letters += (hundreds[z])\n",
        "          else:\n",
        "            all_letters += (hundreds[z] + \"and\" + tens[i] + digits[y])\n",
        "  \n",
        "  all_letters += \"onethousand\"\n",
        "  return len(all_letters)"
      ],
      "execution_count": 215,
      "outputs": []
    },
    {
      "cell_type": "code",
      "metadata": {
        "colab": {
          "base_uri": "https://localhost:8080/"
        },
        "id": "BmapC-5wh5Xp",
        "outputId": "df394515-3e23-4b50-bcb0-d96a2da5060f"
      },
      "source": [
        "print(\"The number of letters is \", number_letter_counts())"
      ],
      "execution_count": 216,
      "outputs": [
        {
          "output_type": "stream",
          "name": "stdout",
          "text": [
            "The number of letters is  21124\n"
          ]
        }
      ]
    },
    {
      "cell_type": "markdown",
      "metadata": {
        "id": "NR2pZpHQrHF4"
      },
      "source": [
        "## #18 Maximum path sum I"
      ]
    },
    {
      "cell_type": "markdown",
      "metadata": {
        "id": "RHaHRZQQrLEF"
      },
      "source": [
        "<p>By starting at the top of the triangle below and moving to adjacent numbers on the row below, the maximum total from top to bottom is 23.</p>\n",
        "<p class=\"monospace center\"><span class=\"red\"><b>3</b></span><br /><span class=\"red\"><b>7</b></span> 4<br />\n",
        "2 <span class=\"red\"><b>4</b></span> 6<br />\n",
        "8 5 <span class=\"red\"><b>9</b></span> 3</p>\n",
        "<p>That is, 3 + 7 + 4 + 9 = 23.</p>\n",
        "<p>Find the maximum total from top to bottom of the triangle below:</p>\n",
        "<p class=\"monospace center\">75<br />\n",
        "95 64<br />\n",
        "17 47 82<br />\n",
        "18 35 87 10<br />\n",
        "20 04 82 47 65<br />\n",
        "19 01 23 75 03 34<br />\n",
        "88 02 77 73 07 63 67<br />\n",
        "99 65 04 28 06 16 70 92<br />\n",
        "41 41 26 56 83 40 80 70 33<br />\n",
        "41 48 72 33 47 32 37 16 94 29<br />\n",
        "53 71 44 65 25 43 91 52 97 51 14<br />\n",
        "70 11 33 28 77 73 17 78 39 68 17 57<br />\n",
        "91 71 52 38 17 14 91 43 58 50 27 29 48<br />\n",
        "63 66 04 68 89 53 67 30 73 16 69 87 40 31<br />\n",
        "04 62 98 27 23 09 70 98 73 93 38 53 60 04 23</p>\n",
        "<p class=\"note\"><b>NOTE:</b> As there are only 16384 routes, it is possible to solve this problem by trying every route. However, <a href=\"problem=67\">Problem 67</a>, is the same challenge with a triangle containing one-hundred rows; it cannot be solved by brute force, and requires a clever method! ;o)</p>\n",
        "\n",
        "\n"
      ]
    },
    {
      "cell_type": "code",
      "metadata": {
        "id": "OqbW3_c3pAkx"
      },
      "source": [
        "triangle = [\n",
        "[75, 0, 0, 0, 0, 0, 0, 0, 0, 0, 0, 0, 0, 0, 0],\n",
        "[95, 64, 0, 0, 0, 0, 0, 0, 0, 0, 0, 0, 0, 0, 0],\n",
        "[17, 47, 82, 0, 0, 0, 0, 0, 0, 0, 0, 0, 0, 0, 0],\n",
        "[18, 35, 87, 10, 0, 0, 0, 0, 0, 0, 0, 0, 0, 0, 0],\n",
        "[20, 4, 82, 47, 65, 0, 0, 0, 0, 0, 0, 0, 0, 0, 0],\n",
        "[19, 1, 23, 75, 3, 34, 0, 0, 0, 0, 0, 0, 0, 0, 0],\n",
        "[88, 2, 77, 73, 7, 63, 67, 0, 0, 0, 0, 0, 0, 0, 0],\n",
        "[99, 65, 4, 28, 6, 16, 70, 92, 0, 0, 0, 0, 0, 0, 0],\n",
        "[41, 41, 26, 56, 83, 40, 80, 70, 33, 0, 0, 0, 0, 0, 0],\n",
        "[41, 48, 72, 33, 47, 32, 37, 16, 94, 29, 0, 0, 0, 0, 0],\n",
        "[53, 71, 44, 65, 25, 43, 91, 52, 97, 51, 14, 0, 0, 0, 0],\n",
        "[70, 11, 33, 28, 77, 73, 17, 78, 39, 68, 17, 57, 0, 0, 0],\n",
        "[91, 71, 52, 38, 17, 14, 91, 43, 58, 50, 27, 29, 48, 0, 0], \n",
        "[63, 66, 4, 68, 89, 53, 67, 30, 73, 16, 69, 87, 40, 31, 0],\n",
        "[4, 62, 98, 27, 23, 9, 70, 98, 73, 93, 38, 53, 60, 4, 23]]"
      ],
      "execution_count": 218,
      "outputs": []
    },
    {
      "cell_type": "code",
      "metadata": {
        "id": "7AspiOfzuAEh"
      },
      "source": [
        ""
      ],
      "execution_count": null,
      "outputs": []
    }
  ]
}